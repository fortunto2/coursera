{
 "cells": [
  {
   "cell_type": "code",
   "execution_count": 69,
   "metadata": {
    "collapsed": true
   },
   "outputs": [],
   "source": [
    "# coding: utf-8\n",
    "import re\n",
    "import json"
   ]
  },
  {
   "cell_type": "code",
   "execution_count": 127,
   "metadata": {
    "collapsed": false
   },
   "outputs": [],
   "source": [
    "file_obj = open('sentences.txt')\n",
    "data_list = file_obj.readlines()"
   ]
  },
  {
   "cell_type": "code",
   "execution_count": 128,
   "metadata": {
    "collapsed": false
   },
   "outputs": [
    {
     "name": "stdout",
     "output_type": "stream",
     "text": [
      "In comparison to dogs, cats have not undergone major changes during the domestication process.\n",
      "\n",
      "As cat simply catenates streams of bytes, it can be also used to concatenate binary files, where it will just concatenate sequence of bytes.\n",
      "\n",
      "A common interactive use of cat for a single file is to output the content of a file to standard output.\n",
      "\n",
      "Cats can hear sounds too faint or too high in frequency for human ears, such as those made by mice and other small animals.\n",
      "\n",
      "In one, people deliberately tamed cats in a process of artificial selection, as they were useful predators of vermin.\n",
      "\n",
      "The domesticated cat and its closest wild ancestor are both diploid organisms that possess 38 chromosomes and roughly 20,000 genes.\n",
      "\n",
      "Domestic cats are similar in size to the other members of the genus Felis, typically weighing between 4 and 5 kg (8.8 and 11.0 lb).\n",
      "\n",
      "However, if the output is piped or redirected, cat is unnecessary.\n",
      "\n",
      "cat with one named file is safer where human error is a concern - one wrong use of the default redirection symbol \">\" instead of \"<\" (often adjacent on keyboards) may permanently delete the file you were just needing to read.\n",
      "\n",
      "In terms of legibility, a sequence of commands starting with cat and connected by pipes has a clear left-to-right flow of information.\n",
      "\n",
      "Cat command is one of the basic commands that you learned when you started in the Unix / Linux world.\n",
      "\n",
      "Using cat command, the lines received from stdin can be redirected to a new file using redirection symbols.\n",
      "\n",
      "When you type simply cat command without any arguments, it just receives the stdin content and displays it in the stdout.\n",
      "\n",
      "Leopard was released on October 26, 2007 as the successor of Tiger (version 10.4), and is available in two editions.\n",
      "\n",
      "According to Apple, Leopard contains over 300 changes and enhancements over its predecessor, Mac OS X Tiger.\n",
      "\n",
      "As of Mid 2010, some Apple computers have firmware factory installed which will no longer allow installation of Mac OS X Leopard.\n",
      "\n",
      "Since Apple moved to using Intel processors in their computers, the OSx86 community has developed and now also allows Mac OS X Tiger and later releases to be installed on non-Apple x86-based computers.\n",
      "\n",
      "OS X Mountain Lion was released on July 25, 2012 for purchase and download through Apple's Mac App Store, as part of a switch to releasing OS X versions online and every year.\n",
      "\n",
      "Apple has released a small patch for the three most recent versions of Safari running on OS X Yosemite, Mavericks, and Mountain Lion.\n",
      "\n",
      "The Mountain Lion release marks the second time Apple has offered an incremental upgrade, rather than releasing a new cat entirely.\n",
      "\n",
      "Mac OS X Mountain Lion installs in place, so you won't need to create a separate disk or run the installation off an external drive.\n",
      "\n",
      "The fifth major update to Mac OS X, Leopard, contains such a mountain of features - more than 300 by Apple's count.\n",
      "\n",
      "22\n"
     ]
    }
   ],
   "source": [
    "mylist=[]\n",
    "for line in data_list: \n",
    "    predloj=line.strip().lower()\n",
    "    m = re.split('[^a-z]', predloj)\n",
    "    str_list = filter(None, m)\n",
    "    mylist.append(str_list)\n",
    "    print line\n",
    "\n",
    "n=len(mylist)\n",
    "print n"
   ]
  },
  {
   "cell_type": "code",
   "execution_count": 102,
   "metadata": {
    "collapsed": false
   },
   "outputs": [
    {
     "name": "stdout",
     "output_type": "stream",
     "text": [
      "254\n"
     ]
    }
   ],
   "source": [
    "wordDict={}\n",
    "d=0\n",
    "for line in mylist: \n",
    "    \n",
    "    for word in line:  \n",
    "        \n",
    "        if not word in wordDict:\n",
    "            wordDict[word]=d\n",
    "            d+=1        \n",
    "        \n",
    "# print (json.dumps(wordDict, indent=4, sort_keys=True))\n",
    "print d\n"
   ]
  },
  {
   "cell_type": "code",
   "execution_count": 129,
   "metadata": {
    "collapsed": false
   },
   "outputs": [
    {
     "name": "stdout",
     "output_type": "stream",
     "text": [
      "[[ 0.  0.  0. ...,  1.  0.  0.]\n",
      " [ 0.  0.  0. ...,  0.  0.  0.]\n",
      " [ 0.  0.  0. ...,  1.  0.  0.]\n",
      " ..., \n",
      " [ 0.  0.  0. ...,  2.  0.  0.]\n",
      " [ 0.  0.  0. ...,  1.  0.  0.]\n",
      " [ 0.  0.  0. ...,  1.  0.  0.]]\n",
      "(22, 254)\n"
     ]
    }
   ],
   "source": [
    "import numpy as np\n",
    "\n",
    "matrix = np.zeros((n,d))\n",
    "\n",
    "for i,line in enumerate(mylist):\n",
    "\n",
    "    for j,word in enumerate(wordDict):\n",
    "                \n",
    "        if word in line:\n",
    "            kol=line.count(word)\n",
    "#             print i,j,kol\n",
    "            \n",
    "            matrix[i][j]=kol\n",
    "\n",
    "                \n",
    "print matrix\n",
    "print matrix.shape\n"
   ]
  },
  {
   "cell_type": "code",
   "execution_count": 119,
   "metadata": {
    "collapsed": false
   },
   "outputs": [
    {
     "name": "stdout",
     "output_type": "stream",
     "text": [
      "{\n",
      "    \"0.0\": 0, \n",
      "    \"0.7327387580875756\": 6, \n",
      "    \"0.77708871496985887\": 4, \n",
      "    \"0.82503644694405864\": 21, \n",
      "    \"0.83281653622739416\": 10, \n",
      "    \"0.83964325485254543\": 12, \n",
      "    \"0.84063618542208085\": 16, \n",
      "    \"0.84275727449171223\": 20, \n",
      "    \"0.86447381456421235\": 2, \n",
      "    \"0.87035925528956715\": 13, \n",
      "    \"0.87401184233025764\": 14, \n",
      "    \"0.88047713906656067\": 11, \n",
      "    \"0.88427248752843102\": 8, \n",
      "    \"0.88854435748492944\": 19, \n",
      "    \"0.89517151632780823\": 3, \n",
      "    \"0.90550888174769317\": 9, \n",
      "    \"0.92587506833388988\": 7, \n",
      "    \"0.94023856953328033\": 5, \n",
      "    \"0.94427217874246472\": 18, \n",
      "    \"0.95275444087384664\": 1, \n",
      "    \"0.95664450152379399\": 17\n",
      "}\n"
     ]
    }
   ],
   "source": [
    "from scipy.spatial import distance\n",
    "\n",
    "cos={}\n",
    "for i,line in enumerate(matrix):\n",
    "#     print line\n",
    "    dist = distance.cosine( matrix[0], line )\n",
    "#     print dist\n",
    "    cos[dist]=i\n",
    "\n",
    "print (json.dumps(cos, indent=4, sort_keys=True))\n",
    "    "
   ]
  },
  {
   "cell_type": "code",
   "execution_count": 124,
   "metadata": {
    "collapsed": false
   },
   "outputs": [
    {
     "name": "stdout",
     "output_type": "stream",
     "text": [
      "In comparison to dogs, cats have not undergone major changes during the domestication process.\n",
      "\n",
      "Domestic cats are similar in size to the other members of the genus Felis, typically weighing between 4 and 5 kg (8.8 and 11.0 lb).\n",
      "\n"
     ]
    }
   ],
   "source": [
    "print data_list[0]\n",
    "print data_list[6]"
   ]
  },
  {
   "cell_type": "code",
   "execution_count": 131,
   "metadata": {
    "collapsed": false
   },
   "outputs": [
    {
     "name": "stdout",
     "output_type": "stream",
     "text": [
      "['in', 'comparison', 'to', 'dogs', 'cats', 'have', 'not', 'undergone', 'major', 'changes', 'during', 'the', 'domestication', 'process']\n",
      "['domestic', 'cats', 'are', 'similar', 'in', 'size', 'to', 'the', 'other', 'members', 'of', 'the', 'genus', 'felis', 'typically', 'weighing', 'between', 'and', 'kg', 'and', 'lb']\n",
      "['in', 'one', 'people', 'deliberately', 'tamed', 'cats', 'in', 'a', 'process', 'of', 'artificial', 'selection', 'as', 'they', 'were', 'useful', 'predators', 'of', 'vermin']\n"
     ]
    }
   ],
   "source": [
    "print mylist[0]\n",
    "\n",
    "print mylist[6]\n",
    "print mylist[4]\n",
    "\n"
   ]
  },
  {
   "cell_type": "code",
   "execution_count": null,
   "metadata": {
    "collapsed": true
   },
   "outputs": [],
   "source": []
  }
 ],
 "metadata": {
  "kernelspec": {
   "display_name": "Python [Root]",
   "language": "python",
   "name": "Python [Root]"
  },
  "language_info": {
   "codemirror_mode": {
    "name": "ipython",
    "version": 2
   },
   "file_extension": ".py",
   "mimetype": "text/x-python",
   "name": "python",
   "nbconvert_exporter": "python",
   "pygments_lexer": "ipython2",
   "version": "2.7.12"
  }
 },
 "nbformat": 4,
 "nbformat_minor": 0
}
