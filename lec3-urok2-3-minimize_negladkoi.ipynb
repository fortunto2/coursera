{
 "cells": [
  {
   "cell_type": "code",
   "execution_count": 3,
   "metadata": {
    "collapsed": true
   },
   "outputs": [],
   "source": [
    "import json\n",
    "%matplotlib inline\n",
    "import numpy as np\n",
    "import matplotlib.pyplot as plt\n",
    "import math\n"
   ]
  },
  {
   "cell_type": "code",
   "execution_count": 4,
   "metadata": {
    "collapsed": true
   },
   "outputs": [],
   "source": [
    "def f(x):\n",
    "    return np.sin(x / 5.0) * np.exp(x / 10.0) + 5 * np.exp(-x / 2.0)"
   ]
  },
  {
   "cell_type": "code",
   "execution_count": 5,
   "metadata": {
    "collapsed": true
   },
   "outputs": [],
   "source": [
    "def h(x):\n",
    "    return int(f(x))"
   ]
  },
  {
   "cell_type": "code",
   "execution_count": 6,
   "metadata": {
    "collapsed": false,
    "scrolled": true
   },
   "outputs": [
    {
     "data": {
      "image/png": "[encoded data removed]",
      "text/plain": [
       "<matplotlib.figure.Figure at 0x7f14d92bd710>"
      ]
     },
     "metadata": {},
     "output_type": "display_data"
    }
   ],
   "source": [
    "fx = np.arange(1, 30, 1)\n",
    "# print x\n",
    "\n",
    "fy = [f(i) for i in fx]\n",
    "# print y\n",
    "\n",
    "plt.plot(fx,fy)\n",
    "plt.show()"
   ]
  },
  {
   "cell_type": "code",
   "execution_count": 8,
   "metadata": {
    "collapsed": false
   },
   "outputs": [
    {
     "data": {
      "image/png": "[encoded data removed]",
      "text/plain": [
       "<matplotlib.figure.Figure at 0x7f14a8b98ed0>"
      ]
     },
     "metadata": {},
     "output_type": "display_data"
    }
   ],
   "source": [
    "hy = [h(i) for i in fx]\n",
    "\n",
    "plt.plot(fx,hy)\n",
    "plt.show()"
   ]
  },
  {
   "cell_type": "code",
   "execution_count": 12,
   "metadata": {
    "collapsed": false
   },
   "outputs": [
    {
     "name": "stdout",
     "output_type": "stream",
     "text": [
      "1 [ 1.]\n",
      "2 [ 2.]\n",
      "3 [ 3.]\n",
      "4 [ 4.]\n",
      "5 [ 5.]\n",
      "6 [ 6.]\n",
      "7 [ 7.]\n",
      "8 [ 8.]\n",
      "9 [ 9.]\n",
      "10 [ 10.]\n",
      "11 [ 11.]\n",
      "12 [ 12.]\n",
      "13 [ 13.]\n",
      "14 [ 14.]\n",
      "15 [ 15.]\n",
      "16 [ 16.]\n",
      "17 [ 17.]\n",
      "18 [ 18.]\n",
      "19 [ 19.]\n",
      "20 [ 20.]\n",
      "21 [ 21.]\n",
      "22 [ 22.]\n",
      "23 [ 23.]\n",
      "24 [ 24.]\n",
      "25 [ 25.]\n",
      "26 [ 26.]\n",
      "27 [ 27.]\n",
      "28 [ 28.]\n",
      "29 [ 29.]\n",
      "   status: 0\n",
      "  success: True\n",
      "     njev: 1\n",
      "     nfev: 3\n",
      " hess_inv: array([[1]])\n",
      "      fun: -5\n",
      "        x: array([ 30.])\n",
      "  message: 'Optimization terminated successfully.'\n",
      "      jac: array([ 0.])\n",
      "      nit: 0\n"
     ]
    }
   ],
   "source": [
    "from scipy.optimize import minimize\n",
    "\n",
    "for i in fx:\n",
    "    print i, minimize(h, [i], method='BFGS').x\n",
    "\n",
    "\n",
    "print minimize(h, [30], method='BFGS')\n"
   ]
  },
  {
   "cell_type": "code",
   "execution_count": 11,
   "metadata": {
    "collapsed": false
   },
   "outputs": [
    {
     "name": "stdout",
     "output_type": "stream",
     "text": [
      "    nfev: 92\n",
      " success: True\n",
      "     fun: -11.0\n",
      "       x: array([ 24.48950367])\n",
      " message: 'Optimization terminated successfully.'\n",
      "     nit: 5\n"
     ]
    },
    {
     "data": {
      "text/plain": [
       "26.84"
      ]
     },
     "execution_count": 11,
     "metadata": {},
     "output_type": "execute_result"
    }
   ],
   "source": [
    "from scipy.optimize import differential_evolution\n",
    "print differential_evolution(h, [(1,30)])\n",
    "\n",
    "round(differential_evolution(h, [(1,30)]).x[0],2)"
   ]
  },
  {
   "cell_type": "code",
   "execution_count": null,
   "metadata": {
    "collapsed": true
   },
   "outputs": [],
   "source": []
  }
 ],
 "metadata": {
  "kernelspec": {
   "display_name": "Python [Root]",
   "language": "python",
   "name": "Python [Root]"
  },
  "language_info": {
   "codemirror_mode": {
    "name": "ipython",
    "version": 2
   },
   "file_extension": ".py",
   "mimetype": "text/x-python",
   "name": "python",
   "nbconvert_exporter": "python",
   "pygments_lexer": "ipython2",
   "version": "2.7.12"
  }
 },
 "nbformat": 4,
 "nbformat_minor": 0
}
