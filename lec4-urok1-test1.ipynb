{
 "cells": [
  {
   "cell_type": "markdown",
   "metadata": {},
   "source": [
    "Используйте определение условной вероятности.\n",
    "P A|B =P(AB)/P(B)"
   ]
  },
  {
   "cell_type": "code",
   "execution_count": 77,
   "metadata": {
    "collapsed": false
   },
   "outputs": [
    {
     "data": {
      "text/plain": [
       "0.4"
      ]
     },
     "execution_count": 77,
     "metadata": {},
     "output_type": "execute_result"
    }
   ],
   "source": [
    "let60 = 0.5\n",
    "let80 = 0.2\n",
    "\n",
    "let80/let60"
   ]
  },
  {
   "cell_type": "markdown",
   "metadata": {},
   "source": [
    "Искомая вероятность — сумма вероятностей всех ячеек, отмеченных плюсом. Поскольку австралийцы выбираются независимо, в каждой ячейке вероятность равна произведению вероятностей соответствующих строки и столбца."
   ]
  },
  {
   "cell_type": "code",
   "execution_count": 78,
   "metadata": {
    "collapsed": false
   },
   "outputs": [
    {
     "name": "stdout",
     "output_type": "stream",
     "text": [
      "[0.49, 0.38, 0.1, 0.03]\n",
      "[[1 1 1 1]\n",
      " [0 1 0 1]\n",
      " [0 0 1 1]\n",
      " [0 0 0 1]]\n",
      "[[ 0.2401  0.1862  0.049   0.0147]\n",
      " [ 0.      0.1444  0.      0.0114]\n",
      " [ 0.      0.      0.01    0.003 ]\n",
      " [ 0.      0.      0.      0.0009]]\n",
      "0.6597\n"
     ]
    }
   ],
   "source": [
    "import numpy as np\n",
    "\n",
    "p1=0.49\n",
    "p2=0.38\n",
    "p3=0.1\n",
    "p4=0.03\n",
    "\n",
    "p=[p1,p2,p3,p4]\n",
    "print p\n",
    "\n",
    "mat=np.array([\n",
    "    [1,1,1,1],\n",
    "    [0,1,0,1],\n",
    "    [0,0,1,1],\n",
    "    [0,0,0,1]\n",
    "])\n",
    "\n",
    "print mat\n",
    "\n",
    "matrix = np.zeros((4,4))\n",
    "\n",
    "for x,i in enumerate(mat):\n",
    "    for y,j in enumerate(i):\n",
    "        if j>0:\n",
    "            matrix[x][y] = p[x]*p[y]\n",
    "\n",
    "print matrix\n",
    "print matrix.sum()\n"
   ]
  },
  {
   "cell_type": "code",
   "execution_count": 25,
   "metadata": {
    "collapsed": false
   },
   "outputs": [
    {
     "name": "stdout",
     "output_type": "stream",
     "text": [
      "0.06\n",
      "0.06\n"
     ]
    },
    {
     "data": {
      "text/plain": [
       "0.12"
      ]
     },
     "execution_count": 25,
     "metadata": {},
     "output_type": "execute_result"
    }
   ],
   "source": [
    "tur=0.6\n",
    "tur2=0.1\n",
    "\n",
    "indi=0.4\n",
    "indi2=0.15\n",
    "\n",
    "x= tur2*tur\n",
    "print x\n",
    "y= indi2*indi\n",
    "print y\n",
    "xy = x+y\n",
    "\n",
    "round(xy,2)"
   ]
  },
  {
   "cell_type": "markdown",
   "metadata": {},
   "source": [
    "P(B)=PBAP(A)+PBA¯P(A¯)=0.1⋅0.6+0.15⋅0.4=0.12."
   ]
  },
  {
   "cell_type": "code",
   "execution_count": 29,
   "metadata": {
    "collapsed": false
   },
   "outputs": [
    {
     "name": "stdout",
     "output_type": "stream",
     "text": [
      "0.5\n"
     ]
    }
   ],
   "source": [
    "print x/xy"
   ]
  },
  {
   "cell_type": "markdown",
   "metadata": {},
   "source": [
    "\n",
    "По формуле Байеса P(A|B)=P(B|A)P(A)/P(B)=0.1⋅0.6/0.12=0.5."
   ]
  },
  {
   "cell_type": "code",
   "execution_count": 89,
   "metadata": {
    "collapsed": false
   },
   "outputs": [
    {
     "name": "stdout",
     "output_type": "stream",
     "text": [
      "0.101\n",
      "0.064\n"
     ]
    }
   ],
   "source": [
    "pop=0.064\n",
    "kot=0.037\n",
    "\n",
    "x= pop+kot\n",
    "print x\n",
    "\n",
    "y=x-kot\n",
    "print y\n"
   ]
  },
  {
   "cell_type": "markdown",
   "metadata": {},
   "source": [
    "p=0.064, если все, кто читает pop, читают и kot  , P (AB) = P (A)\n",
    "\n",
    "p=0.101, если аудитории этих журналов не пересекаются."
   ]
  },
  {
   "cell_type": "code",
   "execution_count": null,
   "metadata": {
    "collapsed": true
   },
   "outputs": [],
   "source": []
  }
 ],
 "metadata": {
  "kernelspec": {
   "display_name": "Python [Root]",
   "language": "python",
   "name": "Python [Root]"
  },
  "language_info": {
   "codemirror_mode": {
    "name": "ipython",
    "version": 2
   },
   "file_extension": ".py",
   "mimetype": "text/x-python",
   "name": "python",
   "nbconvert_exporter": "python",
   "pygments_lexer": "ipython2",
   "version": "2.7.12"
  }
 },
 "nbformat": 4,
 "nbformat_minor": 0
}
