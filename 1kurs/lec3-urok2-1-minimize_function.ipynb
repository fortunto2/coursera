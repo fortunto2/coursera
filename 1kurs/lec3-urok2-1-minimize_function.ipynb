{
 "cells": [
  {
   "cell_type": "code",
   "execution_count": 2,
   "metadata": {
    "collapsed": true
   },
   "outputs": [],
   "source": [
    "import json\n",
    "%matplotlib inline\n",
    "import numpy as np\n",
    "import matplotlib.pyplot as plt\n",
    "import math\n"
   ]
  },
  {
   "cell_type": "code",
   "execution_count": 3,
   "metadata": {
    "collapsed": true
   },
   "outputs": [],
   "source": [
    "def f(x):\n",
    "    return np.sin(x / 5.0) * np.exp(x / 10.0) + 5 * np.exp(-x / 2.0)"
   ]
  },
  {
   "cell_type": "code",
   "execution_count": 32,
   "metadata": {
    "collapsed": false,
    "scrolled": true
   },
   "outputs": [
    {
     "data": {
      "image/png": "[encoded data removed]",
      "text/plain": [
       "<matplotlib.figure.Figure at 0x7fe688633e90>"
      ]
     },
     "metadata": {},
     "output_type": "display_data"
    }
   ],
   "source": [
    "fx = np.arange(1, 30, 1)\n",
    "# print x\n",
    "\n",
    "fy = [f(i) for i in fx]\n",
    "# print y\n",
    "\n",
    "plt.plot(fx,fy)\n",
    "plt.show()"
   ]
  },
  {
   "cell_type": "code",
   "execution_count": 46,
   "metadata": {
    "collapsed": false
   },
   "outputs": [],
   "source": [
    "from scipy.optimize import minimize, rosen, rosen_der\n"
   ]
  },
  {
   "cell_type": "code",
   "execution_count": 37,
   "metadata": {
    "collapsed": false
   },
   "outputs": [
    {
     "name": "stdout",
     "output_type": "stream",
     "text": [
      "1 [ 4.13628823]\n",
      "2 [ 4.13627618]\n",
      "3 [ 4.13623323]\n",
      "4 [ 4.13625735]\n",
      "5 [ 4.13628832]\n",
      "6 [ 4.13629005]\n",
      "7 [ 4.13628939]\n",
      "8 [ 4.13628883]\n",
      "9 [ 4.13633258]\n",
      "10 [ 5.81497192]\n",
      "11 [ 25.88019285]\n",
      "12 [ 57.29610937]\n",
      "13 [ 25.88019322]\n",
      "14 [ 25.88019315]\n",
      "15 [ 24.67766109]\n",
      "16 [ 25.88019928]\n",
      "17 [ 25.88018834]\n",
      "18 [ 25.88019248]\n",
      "19 [ 25.88019528]\n",
      "20 [ 25.8801937]\n",
      "21 [ 25.88019282]\n",
      "22 [ 25.88019205]\n",
      "23 [ 25.88019276]\n",
      "24 [ 25.88019536]\n",
      "25 [ 25.88018592]\n",
      "26 [ 25.8801953]\n",
      "27 [ 25.88019774]\n",
      "28 [ 25.88019299]\n",
      "29 [ 25.88019299]\n"
     ]
    }
   ],
   "source": [
    "for i in fx:\n",
    "    print i, minimize(f, [i]).x\n"
   ]
  },
  {
   "cell_type": "code",
   "execution_count": 47,
   "metadata": {
    "collapsed": false,
    "scrolled": true
   },
   "outputs": [
    {
     "name": "stdout",
     "output_type": "stream",
     "text": [
      "1 [ 4.13628823]\n",
      "2 [ 4.13627618]\n",
      "3 [ 4.13623323]\n",
      "4 [ 4.13625735]\n",
      "5 [ 4.13628832]\n",
      "6 [ 4.13629005]\n",
      "7 [ 4.13628939]\n",
      "8 [ 4.13628883]\n",
      "9 [ 4.13633258]\n",
      "10 [ 5.81497192]\n",
      "11 [ 25.88019285]\n",
      "12 [ 57.29610937]\n",
      "13 [ 25.88019322]\n",
      "14 [ 25.88019315]\n",
      "15 [ 24.67766109]\n",
      "16 [ 25.88019928]\n",
      "17 [ 25.88018834]\n",
      "18 [ 25.88019248]\n",
      "19 [ 25.88019528]\n",
      "20 [ 25.8801937]\n",
      "21 [ 25.88019282]\n",
      "22 [ 25.88019205]\n",
      "23 [ 25.88019276]\n",
      "24 [ 25.88019536]\n",
      "25 [ 25.88018592]\n",
      "26 [ 25.8801953]\n",
      "27 [ 25.88019774]\n",
      "28 [ 25.88019299]\n",
      "29 [ 25.88019299]\n"
     ]
    }
   ],
   "source": [
    "for i in fx:\n",
    "    print i, minimize(f, [i], method='BFGS').x\n"
   ]
  },
  {
   "cell_type": "code",
   "execution_count": 44,
   "metadata": {
    "collapsed": false
   },
   "outputs": [
    {
     "name": "stdout",
     "output_type": "stream",
     "text": [
      "4.14\n"
     ]
    }
   ],
   "source": [
    "print round(minimize(f, [2], method='BFGS').x,2)"
   ]
  },
  {
   "cell_type": "code",
   "execution_count": 45,
   "metadata": {
    "collapsed": false
   },
   "outputs": [
    {
     "name": "stdout",
     "output_type": "stream",
     "text": [
      "25.88\n"
     ]
    }
   ],
   "source": [
    "print round(minimize(f, [30], method='BFGS').x,2)"
   ]
  },
  {
   "cell_type": "code",
   "execution_count": null,
   "metadata": {
    "collapsed": true
   },
   "outputs": [],
   "source": []
  }
 ],
 "metadata": {
  "kernelspec": {
   "display_name": "Python [Root]",
   "language": "python",
   "name": "Python [Root]"
  },
  "language_info": {
   "codemirror_mode": {
    "name": "ipython",
    "version": 2
   },
   "file_extension": ".py",
   "mimetype": "text/x-python",
   "name": "python",
   "nbconvert_exporter": "python",
   "pygments_lexer": "ipython2",
   "version": "2.7.12"
  }
 },
 "nbformat": 4,
 "nbformat_minor": 0
}
